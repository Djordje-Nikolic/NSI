{
 "cells": [
  {
   "cell_type": "code",
   "execution_count": 149,
   "id": "24b19c34",
   "metadata": {},
   "outputs": [],
   "source": [
    "import pandas as pd\n",
    "import numpy as np"
   ]
  },
  {
   "cell_type": "markdown",
   "id": "fa87b4d8",
   "metadata": {},
   "source": [
    "## Upravljanje podacima"
   ]
  },
  {
   "cell_type": "code",
   "execution_count": 150,
   "id": "0a0ebac1",
   "metadata": {},
   "outputs": [],
   "source": [
    "columns = ['Id', 'Survived', 'Class','Name','Sex','Age','Sibilings/Spouses Aboard','Parents/Children Aboard',\n",
    "           'Ticket Num','Fare','Cabin','Embarked']\n",
    "target_column = 'Survived'\n",
    "\n",
    "features = columns.copy()\n",
    "features.remove(target_column)"
   ]
  },
  {
   "cell_type": "code",
   "execution_count": 151,
   "id": "e9a901f2",
   "metadata": {},
   "outputs": [],
   "source": [
    "import os\n",
    "\n",
    "relpath = 'data\\\\titanic_dataset\\\\train.csv'\n",
    "abspath = os.path.abspath(relpath)\n",
    "\n",
    "#Učitamo podatke iz fajla train.csv \n",
    "df = pd.read_csv(abspath, header=0, names=columns)"
   ]
  },
  {
   "cell_type": "code",
   "execution_count": 152,
   "id": "1b694510",
   "metadata": {},
   "outputs": [
    {
     "name": "stdout",
     "output_type": "stream",
     "text": [
      "(891, 12)\n"
     ]
    }
   ],
   "source": [
    "#Pregled broja redova i kolona\n",
    "\n",
    "print(df.shape)"
   ]
  },
  {
   "cell_type": "code",
   "execution_count": 153,
   "id": "a56e7e1c",
   "metadata": {
    "scrolled": true
   },
   "outputs": [
    {
     "name": "stdout",
     "output_type": "stream",
     "text": [
      "<class 'pandas.core.frame.DataFrame'>\n",
      "RangeIndex: 891 entries, 0 to 890\n",
      "Data columns (total 12 columns):\n",
      " #   Column                    Non-Null Count  Dtype  \n",
      "---  ------                    --------------  -----  \n",
      " 0   Id                        891 non-null    int64  \n",
      " 1   Survived                  891 non-null    int64  \n",
      " 2   Class                     891 non-null    int64  \n",
      " 3   Name                      891 non-null    object \n",
      " 4   Sex                       891 non-null    object \n",
      " 5   Age                       714 non-null    float64\n",
      " 6   Sibilings/Spouses Aboard  891 non-null    int64  \n",
      " 7   Parents/Children Aboard   891 non-null    int64  \n",
      " 8   Ticket Num                891 non-null    object \n",
      " 9   Fare                      891 non-null    float64\n",
      " 10  Cabin                     204 non-null    object \n",
      " 11  Embarked                  889 non-null    object \n",
      "dtypes: float64(2), int64(5), object(5)\n",
      "memory usage: 83.7+ KB\n"
     ]
    }
   ],
   "source": [
    "#Pregled postojecih kolona\n",
    "\n",
    "df.info()"
   ]
  },
  {
   "cell_type": "code",
   "execution_count": 154,
   "id": "ebedb405",
   "metadata": {},
   "outputs": [
    {
     "data": {
      "text/html": [
       "<div>\n",
       "<style scoped>\n",
       "    .dataframe tbody tr th:only-of-type {\n",
       "        vertical-align: middle;\n",
       "    }\n",
       "\n",
       "    .dataframe tbody tr th {\n",
       "        vertical-align: top;\n",
       "    }\n",
       "\n",
       "    .dataframe thead th {\n",
       "        text-align: right;\n",
       "    }\n",
       "</style>\n",
       "<table border=\"1\" class=\"dataframe\">\n",
       "  <thead>\n",
       "    <tr style=\"text-align: right;\">\n",
       "      <th></th>\n",
       "      <th>Id</th>\n",
       "      <th>Survived</th>\n",
       "      <th>Class</th>\n",
       "      <th>Age</th>\n",
       "      <th>Sibilings/Spouses Aboard</th>\n",
       "      <th>Parents/Children Aboard</th>\n",
       "      <th>Fare</th>\n",
       "    </tr>\n",
       "  </thead>\n",
       "  <tbody>\n",
       "    <tr>\n",
       "      <th>count</th>\n",
       "      <td>891.000000</td>\n",
       "      <td>891.000000</td>\n",
       "      <td>891.000000</td>\n",
       "      <td>714.000000</td>\n",
       "      <td>891.000000</td>\n",
       "      <td>891.000000</td>\n",
       "      <td>891.000000</td>\n",
       "    </tr>\n",
       "    <tr>\n",
       "      <th>mean</th>\n",
       "      <td>446.000000</td>\n",
       "      <td>0.383838</td>\n",
       "      <td>2.308642</td>\n",
       "      <td>29.699118</td>\n",
       "      <td>0.523008</td>\n",
       "      <td>0.381594</td>\n",
       "      <td>32.204208</td>\n",
       "    </tr>\n",
       "    <tr>\n",
       "      <th>std</th>\n",
       "      <td>257.353842</td>\n",
       "      <td>0.486592</td>\n",
       "      <td>0.836071</td>\n",
       "      <td>14.526497</td>\n",
       "      <td>1.102743</td>\n",
       "      <td>0.806057</td>\n",
       "      <td>49.693429</td>\n",
       "    </tr>\n",
       "    <tr>\n",
       "      <th>min</th>\n",
       "      <td>1.000000</td>\n",
       "      <td>0.000000</td>\n",
       "      <td>1.000000</td>\n",
       "      <td>0.420000</td>\n",
       "      <td>0.000000</td>\n",
       "      <td>0.000000</td>\n",
       "      <td>0.000000</td>\n",
       "    </tr>\n",
       "    <tr>\n",
       "      <th>25%</th>\n",
       "      <td>223.500000</td>\n",
       "      <td>0.000000</td>\n",
       "      <td>2.000000</td>\n",
       "      <td>20.125000</td>\n",
       "      <td>0.000000</td>\n",
       "      <td>0.000000</td>\n",
       "      <td>7.910400</td>\n",
       "    </tr>\n",
       "    <tr>\n",
       "      <th>50%</th>\n",
       "      <td>446.000000</td>\n",
       "      <td>0.000000</td>\n",
       "      <td>3.000000</td>\n",
       "      <td>28.000000</td>\n",
       "      <td>0.000000</td>\n",
       "      <td>0.000000</td>\n",
       "      <td>14.454200</td>\n",
       "    </tr>\n",
       "    <tr>\n",
       "      <th>75%</th>\n",
       "      <td>668.500000</td>\n",
       "      <td>1.000000</td>\n",
       "      <td>3.000000</td>\n",
       "      <td>38.000000</td>\n",
       "      <td>1.000000</td>\n",
       "      <td>0.000000</td>\n",
       "      <td>31.000000</td>\n",
       "    </tr>\n",
       "    <tr>\n",
       "      <th>max</th>\n",
       "      <td>891.000000</td>\n",
       "      <td>1.000000</td>\n",
       "      <td>3.000000</td>\n",
       "      <td>80.000000</td>\n",
       "      <td>8.000000</td>\n",
       "      <td>6.000000</td>\n",
       "      <td>512.329200</td>\n",
       "    </tr>\n",
       "  </tbody>\n",
       "</table>\n",
       "</div>"
      ],
      "text/plain": [
       "               Id    Survived       Class         Age  \\\n",
       "count  891.000000  891.000000  891.000000  714.000000   \n",
       "mean   446.000000    0.383838    2.308642   29.699118   \n",
       "std    257.353842    0.486592    0.836071   14.526497   \n",
       "min      1.000000    0.000000    1.000000    0.420000   \n",
       "25%    223.500000    0.000000    2.000000   20.125000   \n",
       "50%    446.000000    0.000000    3.000000   28.000000   \n",
       "75%    668.500000    1.000000    3.000000   38.000000   \n",
       "max    891.000000    1.000000    3.000000   80.000000   \n",
       "\n",
       "       Sibilings/Spouses Aboard  Parents/Children Aboard        Fare  \n",
       "count                891.000000               891.000000  891.000000  \n",
       "mean                   0.523008                 0.381594   32.204208  \n",
       "std                    1.102743                 0.806057   49.693429  \n",
       "min                    0.000000                 0.000000    0.000000  \n",
       "25%                    0.000000                 0.000000    7.910400  \n",
       "50%                    0.000000                 0.000000   14.454200  \n",
       "75%                    1.000000                 0.000000   31.000000  \n",
       "max                    8.000000                 6.000000  512.329200  "
      ]
     },
     "execution_count": 154,
     "metadata": {},
     "output_type": "execute_result"
    }
   ],
   "source": [
    "#Pregled numerickih kolona\n",
    "\n",
    "df.describe()"
   ]
  },
  {
   "cell_type": "code",
   "execution_count": 155,
   "id": "6bde0926",
   "metadata": {},
   "outputs": [
    {
     "name": "stdout",
     "output_type": "stream",
     "text": [
      "There are 7 numerical features:\n",
      "['Id', 'Survived', 'Class', 'Age', 'Sibilings/Spouses Aboard', 'Parents/Children Aboard', 'Fare'] \n",
      "\n",
      "There are 5 categorical features: \n",
      "\n",
      "['Name', 'Sex', 'Ticket Num', 'Cabin', 'Embarked']\n"
     ]
    }
   ],
   "source": [
    "#Izdvajanje imena kategorickih kolona od numerickih\n",
    "\n",
    "numerical_features = df.select_dtypes(include='number').columns.tolist()\n",
    "print(f'There are {len(numerical_features)} numerical features:')\n",
    "print(numerical_features, '\\n')\n",
    "\n",
    "categorical_features = df.select_dtypes(exclude='number').columns.tolist()\n",
    "print(f'There are {len(categorical_features)} categorical features:', '\\n')\n",
    "print(categorical_features)"
   ]
  },
  {
   "cell_type": "code",
   "execution_count": 156,
   "id": "8a2fdd17",
   "metadata": {},
   "outputs": [
    {
     "name": "stdout",
     "output_type": "stream",
     "text": [
      "Unique values (891) in the 'Name' column: \n",
      "\n",
      "Braund, Mr. Owen Harris                     1\n",
      "Boulos, Mr. Hanna                           1\n",
      "Frolicher-Stehli, Mr. Maxmillian            1\n",
      "Gilinski, Mr. Eliezer                       1\n",
      "Murdlin, Mr. Joseph                         1\n",
      "                                           ..\n",
      "Kelly, Miss. Anna Katherine \"Annie Kate\"    1\n",
      "McCoy, Mr. Bernard                          1\n",
      "Johnson, Mr. William Cahoone Jr             1\n",
      "Keane, Miss. Nora A                         1\n",
      "Dooley, Mr. Patrick                         1\n",
      "Name: Name, Length: 891, dtype: int64 \n",
      "\n",
      "Unique values (2) in the 'Sex' column: \n",
      "\n",
      "male      577\n",
      "female    314\n",
      "Name: Sex, dtype: int64 \n",
      "\n",
      "Unique values (681) in the 'Ticket Num' column: \n",
      "\n",
      "347082      7\n",
      "CA. 2343    7\n",
      "1601        7\n",
      "3101295     6\n",
      "CA 2144     6\n",
      "           ..\n",
      "9234        1\n",
      "19988       1\n",
      "2693        1\n",
      "PC 17612    1\n",
      "370376      1\n",
      "Name: Ticket Num, Length: 681, dtype: int64 \n",
      "\n",
      "Unique values (147) in the 'Cabin' column: \n",
      "\n",
      "B96 B98        4\n",
      "G6             4\n",
      "C23 C25 C27    4\n",
      "C22 C26        3\n",
      "F33            3\n",
      "              ..\n",
      "E34            1\n",
      "C7             1\n",
      "C54            1\n",
      "E36            1\n",
      "C148           1\n",
      "Name: Cabin, Length: 147, dtype: int64 \n",
      "\n",
      "Unique values (3) in the 'Embarked' column: \n",
      "\n",
      "S    644\n",
      "C    168\n",
      "Q     77\n",
      "Name: Embarked, dtype: int64 \n",
      "\n"
     ]
    }
   ],
   "source": [
    "#Pregled unikatnih vrednosti u kategorickim kolonama\n",
    "\n",
    "for col in categorical_features:\n",
    "    vals = df[col].value_counts()\n",
    "    print(f\"Unique values ({len(vals)}) in the '{col}' column:\", '\\n')\n",
    "    print(vals, '\\n')"
   ]
  },
  {
   "cell_type": "markdown",
   "id": "0513f766",
   "metadata": {},
   "source": [
    "## Vizualizacija podataka"
   ]
  },
  {
   "cell_type": "code",
   "execution_count": 157,
   "id": "70f284f2",
   "metadata": {},
   "outputs": [],
   "source": [
    "%matplotlib inline\n",
    "import matplotlib.pyplot as plt\n",
    "import seaborn as sns"
   ]
  },
  {
   "cell_type": "code",
   "execution_count": 158,
   "id": "d25e0afa",
   "metadata": {},
   "outputs": [
    {
     "data": {
      "image/png": "[encoded data removed]",
      "text/plain": [
       "<Figure size 432x288 with 1 Axes>"
      ]
     },
     "metadata": {
      "needs_background": "light"
     },
     "output_type": "display_data"
    },
    {
     "data": {
      "image/png": "[encoded data removed]",
      "text/plain": [
       "<Figure size 432x288 with 1 Axes>"
      ]
     },
     "metadata": {
      "needs_background": "light"
     },
     "output_type": "display_data"
    },
    {
     "data": {
      "image/png": "[encoded data removed]",
      "text/plain": [
       "<Figure size 432x288 with 1 Axes>"
      ]
     },
     "metadata": {
      "needs_background": "light"
     },
     "output_type": "display_data"
    },
    {
     "data": {
      "image/png": "[encoded data removed]",
      "text/plain": [
       "<Figure size 432x288 with 1 Axes>"
      ]
     },
     "metadata": {
      "needs_background": "light"
     },
     "output_type": "display_data"
    },
    {
     "data": {
      "image/png": "[encoded data removed]",
      "text/plain": [
       "<Figure size 432x288 with 1 Axes>"
      ]
     },
     "metadata": {
      "needs_background": "light"
     },
     "output_type": "display_data"
    },
    {
     "data": {
      "image/png": "[encoded data removed]",
      "text/plain": [
       "<Figure size 432x288 with 1 Axes>"
      ]
     },
     "metadata": {
      "needs_background": "light"
     },
     "output_type": "display_data"
    },
    {
     "data": {
      "image/png": "[encoded data removed]",
      "text/plain": [
       "<Figure size 432x288 with 1 Axes>"
      ]
     },
     "metadata": {
      "needs_background": "light"
     },
     "output_type": "display_data"
    },
    {
     "data": {
      "image/png": "[encoded data removed]",
      "text/plain": [
       "<Figure size 432x288 with 1 Axes>"
      ]
     },
     "metadata": {
      "needs_background": "light"
     },
     "output_type": "display_data"
    }
   ],
   "source": [
    "#Izbacivanje kolona sa jedinstvenim vrednostima\n",
    "features_tovisualize = features.copy()\n",
    "features_tovisualize.remove('Name')\n",
    "features_tovisualize.remove('Id')\n",
    "features_tovisualize.remove('Ticket Num')\n",
    "features_tovisualize.remove('Cabin')\n",
    "\n",
    "#Kreiranje histograma za sve kolone osobina (i ciljnu kolonu)\n",
    "for col in features_tovisualize + [target_column]:\n",
    "    plt.figure()\n",
    "    sns.histplot(data=df, x=col)"
   ]
  },
  {
   "cell_type": "code",
   "execution_count": 159,
   "id": "04eb7ecc",
   "metadata": {
    "scrolled": true
   },
   "outputs": [
    {
     "data": {
      "image/png": "[encoded data removed]",
      "text/plain": [
       "<Figure size 432x288 with 1 Axes>"
      ]
     },
     "metadata": {
      "needs_background": "light"
     },
     "output_type": "display_data"
    },
    {
     "data": {
      "image/png": "[encoded data removed]",
      "text/plain": [
       "<Figure size 432x288 with 1 Axes>"
      ]
     },
     "metadata": {
      "needs_background": "light"
     },
     "output_type": "display_data"
    },
    {
     "data": {
      "image/png": "[encoded data removed]",
      "text/plain": [
       "<Figure size 432x288 with 1 Axes>"
      ]
     },
     "metadata": {
      "needs_background": "light"
     },
     "output_type": "display_data"
    },
    {
     "data": {
      "image/png": "[encoded data removed]",
      "text/plain": [
       "<Figure size 432x288 with 1 Axes>"
      ]
     },
     "metadata": {
      "needs_background": "light"
     },
     "output_type": "display_data"
    },
    {
     "data": {
      "image/png": "[encoded data removed]",
      "text/plain": [
       "<Figure size 432x288 with 1 Axes>"
      ]
     },
     "metadata": {
      "needs_background": "light"
     },
     "output_type": "display_data"
    }
   ],
   "source": [
    "#Izbaci ciljnu kolonu\n",
    "num_features_tovisualize = numerical_features.copy()\n",
    "num_features_tovisualize.remove('Survived')\n",
    "num_features_tovisualize.remove('Id')\n",
    "\n",
    "#Kreiranje box figura za sve kolone osobina, naspram ciljne kolone\n",
    "for col in num_features_tovisualize:\n",
    "    plt.figure()\n",
    "    sns.boxplot(data=df, x=target_column, y=col, orient='v')"
   ]
  },
  {
   "cell_type": "code",
   "execution_count": 160,
   "id": "2bbb5beb",
   "metadata": {},
   "outputs": [
    {
     "data": {
      "text/plain": [
       "<Figure size 432x288 with 0 Axes>"
      ]
     },
     "metadata": {},
     "output_type": "display_data"
    },
    {
     "data": {
      "image/png": "[encoded data removed]",
      "text/plain": [
       "<Figure size 360x360 with 1 Axes>"
      ]
     },
     "metadata": {
      "needs_background": "light"
     },
     "output_type": "display_data"
    },
    {
     "data": {
      "text/plain": [
       "<Figure size 432x288 with 0 Axes>"
      ]
     },
     "metadata": {},
     "output_type": "display_data"
    },
    {
     "data": {
      "image/png": "[encoded data removed]",
      "text/plain": [
       "<Figure size 360x360 with 1 Axes>"
      ]
     },
     "metadata": {
      "needs_background": "light"
     },
     "output_type": "display_data"
    },
    {
     "data": {
      "text/plain": [
       "<Figure size 432x288 with 0 Axes>"
      ]
     },
     "metadata": {},
     "output_type": "display_data"
    },
    {
     "data": {
      "image/png": "[encoded data removed]",
      "text/plain": [
       "<Figure size 360x360 with 1 Axes>"
      ]
     },
     "metadata": {
      "needs_background": "light"
     },
     "output_type": "display_data"
    },
    {
     "data": {
      "text/plain": [
       "<Figure size 432x288 with 0 Axes>"
      ]
     },
     "metadata": {},
     "output_type": "display_data"
    },
    {
     "data": {
      "image/png": "[encoded data removed]",
      "text/plain": [
       "<Figure size 360x360 with 1 Axes>"
      ]
     },
     "metadata": {
      "needs_background": "light"
     },
     "output_type": "display_data"
    }
   ],
   "source": [
    "#Kreiranje cat scatter figura za sve kolone osobina, naspram ciljne kolone\n",
    "for col in ['Age','Fare','Sibilings/Spouses Aboard','Parents/Children Aboard']:\n",
    "    plt.figure()\n",
    "    sns.catplot(data=df, x=target_column, y=col, orient='v', kind='strip')"
   ]
  },
  {
   "cell_type": "code",
   "execution_count": 161,
   "id": "ff86a341",
   "metadata": {
    "scrolled": true
   },
   "outputs": [
    {
     "data": {
      "text/plain": [
       "<Figure size 432x288 with 0 Axes>"
      ]
     },
     "metadata": {},
     "output_type": "display_data"
    },
    {
     "data": {
      "image/png": "[encoded data removed]",
      "text/plain": [
       "<Figure size 360x360 with 1 Axes>"
      ]
     },
     "metadata": {
      "needs_background": "light"
     },
     "output_type": "display_data"
    },
    {
     "data": {
      "text/plain": [
       "<Figure size 432x288 with 0 Axes>"
      ]
     },
     "metadata": {},
     "output_type": "display_data"
    },
    {
     "data": {
      "image/png": "[encoded data removed]",
      "text/plain": [
       "<Figure size 360x360 with 1 Axes>"
      ]
     },
     "metadata": {
      "needs_background": "light"
     },
     "output_type": "display_data"
    }
   ],
   "source": [
    "#Kreiranje cat point figura za sve kolone osobina, naspram ciljne kolone\n",
    "for col in ['Sex','Class']:\n",
    "    plt.figure()\n",
    "    sns.catplot(data=df, x=col, y=target_column, kind='point')"
   ]
  },
  {
   "cell_type": "code",
   "execution_count": 162,
   "id": "32e463f4",
   "metadata": {},
   "outputs": [
    {
     "data": {
      "text/plain": [
       "<AxesSubplot:>"
      ]
     },
     "execution_count": 162,
     "metadata": {},
     "output_type": "execute_result"
    },
    {
     "data": {
      "image/png": "[encoded data removed]",
      "text/plain": [
       "<Figure size 864x720 with 2 Axes>"
      ]
     },
     "metadata": {
      "needs_background": "light"
     },
     "output_type": "display_data"
    }
   ],
   "source": [
    "#Kreiranje toplotne mape korelacija\n",
    "plt.figure(figsize=(12,10))\n",
    "sns.heatmap(df.corr(), annot=True, fmt='.2f')"
   ]
  },
  {
   "cell_type": "markdown",
   "id": "91a3f1a3",
   "metadata": {},
   "source": [
    "## Priprema podataka"
   ]
  },
  {
   "cell_type": "markdown",
   "id": "e62c1270",
   "metadata": {},
   "source": [
    "### Rad sa nepoznatim vrednostima"
   ]
  },
  {
   "cell_type": "code",
   "execution_count": 163,
   "id": "a38b1b79",
   "metadata": {
    "scrolled": true
   },
   "outputs": [
    {
     "name": "stdout",
     "output_type": "stream",
     "text": [
      "Columns with missing values: \n",
      "Age         177/891\n",
      "Cabin       687/891\n",
      "Embarked      2/891\n",
      "dtype: object\n"
     ]
    }
   ],
   "source": [
    "#Prikaz nepoznatih vrednosti\n",
    "\n",
    "columns_with_miss = df.isnull().sum() > 0\n",
    "total_rows = df.shape[0]\n",
    "\n",
    "print(\"Columns with missing values: \")\n",
    "res = df.isnull().sum()[columns_with_miss]\n",
    "res = res.apply(lambda x: f'{x}/{total_rows}')\n",
    "print(res)"
   ]
  },
  {
   "cell_type": "code",
   "execution_count": 164,
   "id": "d42d282c",
   "metadata": {},
   "outputs": [],
   "source": [
    "#Izbacivanje redova koji nemaju vrednosti u 'Embarked' koloni\n",
    "\n",
    "rows_with_embarked = df['Embarked'].notna()\n",
    "df = df[rows_with_embarked]"
   ]
  },
  {
   "cell_type": "code",
   "execution_count": 165,
   "id": "cd10b602",
   "metadata": {},
   "outputs": [],
   "source": [
    "#Izbacivanje kolone 'Cabin'\n",
    "\n",
    "df = df.drop(columns=['Cabin'])\n",
    "categorical_features.remove('Cabin')\n",
    "features.remove('Cabin')"
   ]
  },
  {
   "cell_type": "code",
   "execution_count": 166,
   "id": "4e926c64",
   "metadata": {},
   "outputs": [],
   "source": [
    "#Popunjivanje nepoznatih vrednosti u 'Age' koloni sa prosecnom vrednoscu (pandas metoda)\n",
    "\n",
    "age_mean = df['Age'].mean()\n",
    "filled_age_pd = df['Age'].fillna(value=age_mean)"
   ]
  },
  {
   "cell_type": "code",
   "execution_count": 167,
   "id": "19be4f3e",
   "metadata": {},
   "outputs": [],
   "source": [
    "#Popunjivanje nepoznatih vrednosti u 'Age' koloni sa prosecnom vrednoscu (sklearn metoda)\n",
    "from sklearn.impute import SimpleImputer\n",
    "\n",
    "imputer = SimpleImputer(strategy=\"mean\")\n",
    "filled_age_sk = imputer.fit_transform(df[['Age']])"
   ]
  },
  {
   "cell_type": "code",
   "execution_count": 168,
   "id": "6c70209e",
   "metadata": {},
   "outputs": [],
   "source": [
    "#Unesi generisane vrednosti\n",
    "df['Age'] = filled_age_pd"
   ]
  },
  {
   "cell_type": "markdown",
   "id": "b4f80266",
   "metadata": {},
   "source": [
    "### Rad sa ekstremnim vrednostima"
   ]
  },
  {
   "cell_type": "code",
   "execution_count": 169,
   "id": "72c872ea",
   "metadata": {},
   "outputs": [],
   "source": [
    "#Definisanje funkcija za detektovanje ekstremnih vrednosti\n",
    "\n",
    "def outliers_iqr(x: pd.Series):\n",
    "    q1, q3 = np.percentile(x, [25, 75])\n",
    "    iqr = q3 - q1\n",
    "    \n",
    "    lower_bound = q1 - (iqr * 1.5)\n",
    "    upper_bound = q3 + (iqr * 1.5)\n",
    "    return np.where((x > upper_bound) | (x < lower_bound))[0]\n",
    "\n",
    "def outliers_z_score(ys: pd.Series):\n",
    "    threshold = 3\n",
    "\n",
    "    mean_y = np.mean(ys)\n",
    "    stdev_y = np.std(ys)\n",
    "    z_scores = [(y - mean_y) / stdev_y for y in ys]\n",
    "    return np.where(np.abs(z_scores) > threshold)[0]\n",
    "\n",
    "def outliers_modified_z_score(ys: pd.Series):\n",
    "    threshold = 3.5\n",
    "\n",
    "    median_y = np.median(ys)\n",
    "    median_absolute_deviation_y = np.median([np.abs(y - median_y) for y in ys])\n",
    "    \n",
    "    if median_absolute_deviation_y == 0:\n",
    "        median_absolute_deviation_y = np.finfo(np.double).min\n",
    "    \n",
    "    modified_z_scores = [0.6745 * (y - median_y) / median_absolute_deviation_y\n",
    "                         for y in ys]\n",
    "    return np.where(np.abs(modified_z_scores) > threshold)[0]"
   ]
  },
  {
   "cell_type": "code",
   "execution_count": 170,
   "id": "b12bab30",
   "metadata": {
    "scrolled": true
   },
   "outputs": [
    {
     "name": "stdout",
     "output_type": "stream",
     "text": [
      "Outliers:                            IQR ZScore ModZScore\n",
      "Column 'Id                      ':     0      0         0\n",
      "Column 'Survived                ':     0      0         0\n",
      "Column 'Class                   ':     0      0         0\n",
      "Column 'Age                     ':    65      7        15\n",
      "Column 'Sibilings/Spouses Aboard':    46     30         0\n",
      "Column 'Parents/Children Aboard ':   213     15         0\n",
      "Column 'Fare                    ':   114     20       158\n",
      "\n"
     ]
    }
   ],
   "source": [
    "#Prikaz broja ekstremnih vrednosti za svaku numericku kolonu\n",
    "\n",
    "outliers = {}\n",
    "print(\"Outliers:\",' ' * 26,\"IQR ZScore ModZScore\")\n",
    "for col in numerical_features:\n",
    "    outliersIQR = outliers_iqr(df[col])\n",
    "    outliersZScore = outliers_z_score(df[col])\n",
    "    outliersModZScore = outliers_modified_z_score(df[col])\n",
    "    outliers[col] = (outliersIQR, outliersZScore, outliersModZScore)\n",
    "    print(f\"Column '{col:24}': {len(outliersIQR):5} {len(outliersZScore):6} {len(outliersModZScore):9}\")\n",
    "print()"
   ]
  },
  {
   "cell_type": "markdown",
   "id": "e8365b98",
   "metadata": {},
   "source": [
    "### Kodiranje kategoričkih podataka"
   ]
  },
  {
   "cell_type": "code",
   "execution_count": 171,
   "id": "a3616fdd",
   "metadata": {},
   "outputs": [
    {
     "name": "stdout",
     "output_type": "stream",
     "text": [
      "There are 4 categorical features: \n",
      "\n",
      "['Name', 'Sex', 'Ticket Num', 'Embarked']\n"
     ]
    }
   ],
   "source": [
    "#Pregled kategorickih kolona\n",
    "\n",
    "print(f'There are {len(categorical_features)} categorical features:', '\\n')\n",
    "print(categorical_features)"
   ]
  },
  {
   "cell_type": "code",
   "execution_count": 172,
   "id": "82364016",
   "metadata": {},
   "outputs": [],
   "source": [
    "#Izbacicemo kolone \"Name\" i \"Ticket Num\"\n",
    "\n",
    "df = df.drop(columns=[\"Name\", \"Ticket Num\"])"
   ]
  },
  {
   "cell_type": "code",
   "execution_count": 173,
   "id": "0f3a1f02",
   "metadata": {},
   "outputs": [],
   "source": [
    "#Zamena vrednosti kolona \"Survived\" i \"Class\"\n",
    "\n",
    "df = df.replace(to_replace=\n",
    "                {\n",
    "                    \"Survived\": {0: \"No\", 1: \"Yes\"},\n",
    "                    \"Class\": {1: \"First\", 2: \"Second\", 3: \"Third\"}\n",
    "                })"
   ]
  },
  {
   "cell_type": "code",
   "execution_count": 174,
   "id": "26a71727",
   "metadata": {},
   "outputs": [
    {
     "data": {
      "text/plain": [
       "<AxesSubplot:xlabel='Class', ylabel='Count'>"
      ]
     },
     "execution_count": 174,
     "metadata": {},
     "output_type": "execute_result"
    },
    {
     "data": {
      "image/png": "[encoded data removed]",
      "text/plain": [
       "<Figure size 432x288 with 1 Axes>"
      ]
     },
     "metadata": {
      "needs_background": "light"
     },
     "output_type": "display_data"
    },
    {
     "data": {
      "image/png": "[encoded data removed]",
      "text/plain": [
       "<Figure size 432x288 with 1 Axes>"
      ]
     },
     "metadata": {
      "needs_background": "light"
     },
     "output_type": "display_data"
    }
   ],
   "source": [
    "#Vizualizacija tih vrednosti\n",
    "\n",
    "plt.figure()\n",
    "sns.histplot(data=df, x=\"Survived\")\n",
    "\n",
    "plt.figure()\n",
    "sns.histplot(data=df, x=\"Class\")"
   ]
  },
  {
   "cell_type": "code",
   "execution_count": 175,
   "id": "01784b39",
   "metadata": {},
   "outputs": [],
   "source": [
    "from sklearn.preprocessing import LabelEncoder\n",
    "from pandas import get_dummies"
   ]
  },
  {
   "cell_type": "code",
   "execution_count": 176,
   "id": "56798969",
   "metadata": {},
   "outputs": [],
   "source": [
    "#Kodiranje kolone \"Survived\" kroz LabelEncoder (target kolona)\n",
    "\n",
    "lab_encoder = LabelEncoder()\n",
    "df['Survived'] = lab_encoder.fit_transform(df['Survived'])"
   ]
  },
  {
   "cell_type": "code",
   "execution_count": 177,
   "id": "f72303c1",
   "metadata": {},
   "outputs": [],
   "source": [
    "#Kodiranje kolona \"Sex\" i \"Embarked\" putem OneHotEncoding pandas metode\n",
    "\n",
    "df = get_dummies(df, columns=[\"Sex\",\"Embarked\"], drop_first=True)"
   ]
  },
  {
   "cell_type": "code",
   "execution_count": 178,
   "id": "fca2dbfd",
   "metadata": {},
   "outputs": [],
   "source": [
    "#Kodiranje kolone \"Class\" kroz ordinal encoder\n",
    "\n",
    "df = df.replace(to_replace=\n",
    "                {\n",
    "                    \"Class\": {\"First\": 3, \"Second\": 2, \"Third\": 1}\n",
    "                })"
   ]
  },
  {
   "cell_type": "code",
   "execution_count": 179,
   "id": "21532189",
   "metadata": {},
   "outputs": [
    {
     "name": "stdout",
     "output_type": "stream",
     "text": [
      "<class 'pandas.core.frame.DataFrame'>\n",
      "Int64Index: 889 entries, 0 to 890\n",
      "Data columns (total 10 columns):\n",
      " #   Column                    Non-Null Count  Dtype  \n",
      "---  ------                    --------------  -----  \n",
      " 0   Id                        889 non-null    int64  \n",
      " 1   Survived                  889 non-null    int32  \n",
      " 2   Class                     889 non-null    int64  \n",
      " 3   Age                       889 non-null    float64\n",
      " 4   Sibilings/Spouses Aboard  889 non-null    int64  \n",
      " 5   Parents/Children Aboard   889 non-null    int64  \n",
      " 6   Fare                      889 non-null    float64\n",
      " 7   Sex_male                  889 non-null    uint8  \n",
      " 8   Embarked_Q                889 non-null    uint8  \n",
      " 9   Embarked_S                889 non-null    uint8  \n",
      "dtypes: float64(2), int32(1), int64(4), uint8(3)\n",
      "memory usage: 54.7 KB\n"
     ]
    }
   ],
   "source": [
    "#Trenutni pregled kolona\n",
    "\n",
    "df.info()"
   ]
  },
  {
   "cell_type": "markdown",
   "id": "a39bbda5",
   "metadata": {},
   "source": [
    "### Skaliranje numeričkih podataka"
   ]
  },
  {
   "cell_type": "code",
   "execution_count": 180,
   "id": "51cefa5a",
   "metadata": {},
   "outputs": [
    {
     "name": "stdout",
     "output_type": "stream",
     "text": [
      "There are 10 numerical features:\n",
      "['Id', 'Survived', 'Class', 'Age', 'Sibilings/Spouses Aboard', 'Parents/Children Aboard', 'Fare', 'Sex_male', 'Embarked_Q', 'Embarked_S'] \n",
      "\n"
     ]
    }
   ],
   "source": [
    "#Pregled numerickih kolona\n",
    "\n",
    "numerical_features = df.select_dtypes(include='number').columns.tolist()\n",
    "print(f'There are {len(numerical_features)} numerical features:')\n",
    "print(numerical_features, '\\n')"
   ]
  },
  {
   "cell_type": "code",
   "execution_count": 181,
   "id": "c4d10b5f",
   "metadata": {},
   "outputs": [
    {
     "name": "stdout",
     "output_type": "stream",
     "text": [
      "There are 4 numerical features:\n",
      "['Age', 'Sibilings/Spouses Aboard', 'Parents/Children Aboard', 'Fare'] \n",
      "\n"
     ]
    }
   ],
   "source": [
    "#Izbacujemo kolonu \"Id\" i cistimo listu numerickih kolona\n",
    "\n",
    "df = df.drop(columns=['Id'])\n",
    "numerical_features.remove('Id')\n",
    "numerical_features.remove('Survived')\n",
    "numerical_features.remove('Class')\n",
    "numerical_features.remove('Sex_male')\n",
    "numerical_features.remove('Embarked_Q')\n",
    "numerical_features.remove('Embarked_S')\n",
    "\n",
    "print(f'There are {len(numerical_features)} numerical features:')\n",
    "print(numerical_features, '\\n')"
   ]
  },
  {
   "cell_type": "code",
   "execution_count": 182,
   "id": "02da21d2",
   "metadata": {},
   "outputs": [],
   "source": [
    "from sklearn.preprocessing import MinMaxScaler, RobustScaler, StandardScaler"
   ]
  },
  {
   "cell_type": "code",
   "execution_count": 183,
   "id": "94a7e419",
   "metadata": {},
   "outputs": [],
   "source": [
    "#Skaliranje MinMaxScalerom\n",
    "\n",
    "minmax_df = df.copy()\n",
    "minmax_scaler = MinMaxScaler(feature_range=(0,1))\n",
    "minmax_df[numerical_features] = minmax_scaler.fit_transform(df[numerical_features])"
   ]
  },
  {
   "cell_type": "code",
   "execution_count": 184,
   "id": "6fc838ad",
   "metadata": {},
   "outputs": [],
   "source": [
    "#Skaliranje StandardScalerom\n",
    "\n",
    "std_df = df.copy()\n",
    "std_scaler = StandardScaler()\n",
    "std_df[numerical_features] = std_scaler.fit_transform(df[numerical_features])"
   ]
  },
  {
   "cell_type": "code",
   "execution_count": 185,
   "id": "7cfff886",
   "metadata": {},
   "outputs": [],
   "source": [
    "#Skaliranje RobustScalerom\n",
    "\n",
    "rbst_df = df.copy()\n",
    "rbst_scaler = RobustScaler()\n",
    "rbst_df[numerical_features] = rbst_scaler.fit_transform(df[numerical_features])"
   ]
  },
  {
   "cell_type": "code",
   "execution_count": 186,
   "id": "df16445a",
   "metadata": {},
   "outputs": [
    {
     "data": {
      "text/html": [
       "<div>\n",
       "<style scoped>\n",
       "    .dataframe tbody tr th:only-of-type {\n",
       "        vertical-align: middle;\n",
       "    }\n",
       "\n",
       "    .dataframe tbody tr th {\n",
       "        vertical-align: top;\n",
       "    }\n",
       "\n",
       "    .dataframe thead th {\n",
       "        text-align: right;\n",
       "    }\n",
       "</style>\n",
       "<table border=\"1\" class=\"dataframe\">\n",
       "  <thead>\n",
       "    <tr style=\"text-align: right;\">\n",
       "      <th></th>\n",
       "      <th>Age</th>\n",
       "      <th>Sibilings/Spouses Aboard</th>\n",
       "      <th>Parents/Children Aboard</th>\n",
       "      <th>Fare</th>\n",
       "    </tr>\n",
       "  </thead>\n",
       "  <tbody>\n",
       "    <tr>\n",
       "      <th>count</th>\n",
       "      <td>889.000000</td>\n",
       "      <td>889.000000</td>\n",
       "      <td>889.000000</td>\n",
       "      <td>889.000000</td>\n",
       "    </tr>\n",
       "    <tr>\n",
       "      <th>mean</th>\n",
       "      <td>29.642093</td>\n",
       "      <td>0.524184</td>\n",
       "      <td>0.382452</td>\n",
       "      <td>32.096681</td>\n",
       "    </tr>\n",
       "    <tr>\n",
       "      <th>std</th>\n",
       "      <td>12.968346</td>\n",
       "      <td>1.103705</td>\n",
       "      <td>0.806761</td>\n",
       "      <td>49.697504</td>\n",
       "    </tr>\n",
       "    <tr>\n",
       "      <th>min</th>\n",
       "      <td>0.420000</td>\n",
       "      <td>0.000000</td>\n",
       "      <td>0.000000</td>\n",
       "      <td>0.000000</td>\n",
       "    </tr>\n",
       "    <tr>\n",
       "      <th>25%</th>\n",
       "      <td>22.000000</td>\n",
       "      <td>0.000000</td>\n",
       "      <td>0.000000</td>\n",
       "      <td>7.895800</td>\n",
       "    </tr>\n",
       "    <tr>\n",
       "      <th>50%</th>\n",
       "      <td>29.642093</td>\n",
       "      <td>0.000000</td>\n",
       "      <td>0.000000</td>\n",
       "      <td>14.454200</td>\n",
       "    </tr>\n",
       "    <tr>\n",
       "      <th>75%</th>\n",
       "      <td>35.000000</td>\n",
       "      <td>1.000000</td>\n",
       "      <td>0.000000</td>\n",
       "      <td>31.000000</td>\n",
       "    </tr>\n",
       "    <tr>\n",
       "      <th>max</th>\n",
       "      <td>80.000000</td>\n",
       "      <td>8.000000</td>\n",
       "      <td>6.000000</td>\n",
       "      <td>512.329200</td>\n",
       "    </tr>\n",
       "  </tbody>\n",
       "</table>\n",
       "</div>"
      ],
      "text/plain": [
       "              Age  Sibilings/Spouses Aboard  Parents/Children Aboard  \\\n",
       "count  889.000000                889.000000               889.000000   \n",
       "mean    29.642093                  0.524184                 0.382452   \n",
       "std     12.968346                  1.103705                 0.806761   \n",
       "min      0.420000                  0.000000                 0.000000   \n",
       "25%     22.000000                  0.000000                 0.000000   \n",
       "50%     29.642093                  0.000000                 0.000000   \n",
       "75%     35.000000                  1.000000                 0.000000   \n",
       "max     80.000000                  8.000000                 6.000000   \n",
       "\n",
       "             Fare  \n",
       "count  889.000000  \n",
       "mean    32.096681  \n",
       "std     49.697504  \n",
       "min      0.000000  \n",
       "25%      7.895800  \n",
       "50%     14.454200  \n",
       "75%     31.000000  \n",
       "max    512.329200  "
      ]
     },
     "execution_count": 186,
     "metadata": {},
     "output_type": "execute_result"
    }
   ],
   "source": [
    "#Pregled originalne skale podataka\n",
    "\n",
    "df[numerical_features].describe()"
   ]
  },
  {
   "cell_type": "code",
   "execution_count": 187,
   "id": "afb7aa2d",
   "metadata": {},
   "outputs": [
    {
     "data": {
      "text/html": [
       "<div>\n",
       "<style scoped>\n",
       "    .dataframe tbody tr th:only-of-type {\n",
       "        vertical-align: middle;\n",
       "    }\n",
       "\n",
       "    .dataframe tbody tr th {\n",
       "        vertical-align: top;\n",
       "    }\n",
       "\n",
       "    .dataframe thead th {\n",
       "        text-align: right;\n",
       "    }\n",
       "</style>\n",
       "<table border=\"1\" class=\"dataframe\">\n",
       "  <thead>\n",
       "    <tr style=\"text-align: right;\">\n",
       "      <th></th>\n",
       "      <th>Age</th>\n",
       "      <th>Sibilings/Spouses Aboard</th>\n",
       "      <th>Parents/Children Aboard</th>\n",
       "      <th>Fare</th>\n",
       "    </tr>\n",
       "  </thead>\n",
       "  <tbody>\n",
       "    <tr>\n",
       "      <th>count</th>\n",
       "      <td>889.000000</td>\n",
       "      <td>889.000000</td>\n",
       "      <td>889.000000</td>\n",
       "      <td>889.000000</td>\n",
       "    </tr>\n",
       "    <tr>\n",
       "      <th>mean</th>\n",
       "      <td>0.367204</td>\n",
       "      <td>0.065523</td>\n",
       "      <td>0.063742</td>\n",
       "      <td>0.062649</td>\n",
       "    </tr>\n",
       "    <tr>\n",
       "      <th>std</th>\n",
       "      <td>0.162960</td>\n",
       "      <td>0.137963</td>\n",
       "      <td>0.134460</td>\n",
       "      <td>0.097003</td>\n",
       "    </tr>\n",
       "    <tr>\n",
       "      <th>min</th>\n",
       "      <td>0.000000</td>\n",
       "      <td>0.000000</td>\n",
       "      <td>0.000000</td>\n",
       "      <td>0.000000</td>\n",
       "    </tr>\n",
       "    <tr>\n",
       "      <th>25%</th>\n",
       "      <td>0.271174</td>\n",
       "      <td>0.000000</td>\n",
       "      <td>0.000000</td>\n",
       "      <td>0.015412</td>\n",
       "    </tr>\n",
       "    <tr>\n",
       "      <th>50%</th>\n",
       "      <td>0.367204</td>\n",
       "      <td>0.000000</td>\n",
       "      <td>0.000000</td>\n",
       "      <td>0.028213</td>\n",
       "    </tr>\n",
       "    <tr>\n",
       "      <th>75%</th>\n",
       "      <td>0.434531</td>\n",
       "      <td>0.125000</td>\n",
       "      <td>0.000000</td>\n",
       "      <td>0.060508</td>\n",
       "    </tr>\n",
       "    <tr>\n",
       "      <th>max</th>\n",
       "      <td>1.000000</td>\n",
       "      <td>1.000000</td>\n",
       "      <td>1.000000</td>\n",
       "      <td>1.000000</td>\n",
       "    </tr>\n",
       "  </tbody>\n",
       "</table>\n",
       "</div>"
      ],
      "text/plain": [
       "              Age  Sibilings/Spouses Aboard  Parents/Children Aboard  \\\n",
       "count  889.000000                889.000000               889.000000   \n",
       "mean     0.367204                  0.065523                 0.063742   \n",
       "std      0.162960                  0.137963                 0.134460   \n",
       "min      0.000000                  0.000000                 0.000000   \n",
       "25%      0.271174                  0.000000                 0.000000   \n",
       "50%      0.367204                  0.000000                 0.000000   \n",
       "75%      0.434531                  0.125000                 0.000000   \n",
       "max      1.000000                  1.000000                 1.000000   \n",
       "\n",
       "             Fare  \n",
       "count  889.000000  \n",
       "mean     0.062649  \n",
       "std      0.097003  \n",
       "min      0.000000  \n",
       "25%      0.015412  \n",
       "50%      0.028213  \n",
       "75%      0.060508  \n",
       "max      1.000000  "
      ]
     },
     "execution_count": 187,
     "metadata": {},
     "output_type": "execute_result"
    }
   ],
   "source": [
    "#Pregled minmax skale podataka\n",
    "\n",
    "minmax_df[numerical_features].describe()"
   ]
  },
  {
   "cell_type": "code",
   "execution_count": 188,
   "id": "672199e4",
   "metadata": {},
   "outputs": [
    {
     "data": {
      "text/html": [
       "<div>\n",
       "<style scoped>\n",
       "    .dataframe tbody tr th:only-of-type {\n",
       "        vertical-align: middle;\n",
       "    }\n",
       "\n",
       "    .dataframe tbody tr th {\n",
       "        vertical-align: top;\n",
       "    }\n",
       "\n",
       "    .dataframe thead th {\n",
       "        text-align: right;\n",
       "    }\n",
       "</style>\n",
       "<table border=\"1\" class=\"dataframe\">\n",
       "  <thead>\n",
       "    <tr style=\"text-align: right;\">\n",
       "      <th></th>\n",
       "      <th>Age</th>\n",
       "      <th>Sibilings/Spouses Aboard</th>\n",
       "      <th>Parents/Children Aboard</th>\n",
       "      <th>Fare</th>\n",
       "    </tr>\n",
       "  </thead>\n",
       "  <tbody>\n",
       "    <tr>\n",
       "      <th>count</th>\n",
       "      <td>8.890000e+02</td>\n",
       "      <td>8.890000e+02</td>\n",
       "      <td>8.890000e+02</td>\n",
       "      <td>8.890000e+02</td>\n",
       "    </tr>\n",
       "    <tr>\n",
       "      <th>mean</th>\n",
       "      <td>-2.957264e-16</td>\n",
       "      <td>-3.197043e-17</td>\n",
       "      <td>-4.795564e-17</td>\n",
       "      <td>1.398706e-16</td>\n",
       "    </tr>\n",
       "    <tr>\n",
       "      <th>std</th>\n",
       "      <td>1.000563e+00</td>\n",
       "      <td>1.000563e+00</td>\n",
       "      <td>1.000563e+00</td>\n",
       "      <td>1.000563e+00</td>\n",
       "    </tr>\n",
       "    <tr>\n",
       "      <th>min</th>\n",
       "      <td>-2.254608e+00</td>\n",
       "      <td>-4.751991e-01</td>\n",
       "      <td>-4.743259e-01</td>\n",
       "      <td>-6.462044e-01</td>\n",
       "    </tr>\n",
       "    <tr>\n",
       "      <th>25%</th>\n",
       "      <td>-5.896199e-01</td>\n",
       "      <td>-4.751991e-01</td>\n",
       "      <td>-4.743259e-01</td>\n",
       "      <td>-4.872378e-01</td>\n",
       "    </tr>\n",
       "    <tr>\n",
       "      <th>50%</th>\n",
       "      <td>-5.482138e-16</td>\n",
       "      <td>-4.751991e-01</td>\n",
       "      <td>-4.743259e-01</td>\n",
       "      <td>-3.551972e-01</td>\n",
       "    </tr>\n",
       "    <tr>\n",
       "      <th>75%</th>\n",
       "      <td>4.133853e-01</td>\n",
       "      <td>4.313502e-01</td>\n",
       "      <td>-4.743259e-01</td>\n",
       "      <td>-2.207954e-02</td>\n",
       "    </tr>\n",
       "    <tr>\n",
       "      <th>max</th>\n",
       "      <td>3.885326e+00</td>\n",
       "      <td>6.777195e+00</td>\n",
       "      <td>6.967010e+00</td>\n",
       "      <td>9.668551e+00</td>\n",
       "    </tr>\n",
       "  </tbody>\n",
       "</table>\n",
       "</div>"
      ],
      "text/plain": [
       "                Age  Sibilings/Spouses Aboard  Parents/Children Aboard  \\\n",
       "count  8.890000e+02              8.890000e+02             8.890000e+02   \n",
       "mean  -2.957264e-16             -3.197043e-17            -4.795564e-17   \n",
       "std    1.000563e+00              1.000563e+00             1.000563e+00   \n",
       "min   -2.254608e+00             -4.751991e-01            -4.743259e-01   \n",
       "25%   -5.896199e-01             -4.751991e-01            -4.743259e-01   \n",
       "50%   -5.482138e-16             -4.751991e-01            -4.743259e-01   \n",
       "75%    4.133853e-01              4.313502e-01            -4.743259e-01   \n",
       "max    3.885326e+00              6.777195e+00             6.967010e+00   \n",
       "\n",
       "               Fare  \n",
       "count  8.890000e+02  \n",
       "mean   1.398706e-16  \n",
       "std    1.000563e+00  \n",
       "min   -6.462044e-01  \n",
       "25%   -4.872378e-01  \n",
       "50%   -3.551972e-01  \n",
       "75%   -2.207954e-02  \n",
       "max    9.668551e+00  "
      ]
     },
     "execution_count": 188,
     "metadata": {},
     "output_type": "execute_result"
    }
   ],
   "source": [
    "#Pregled std skale podataka\n",
    "\n",
    "std_df[numerical_features].describe()"
   ]
  },
  {
   "cell_type": "code",
   "execution_count": 189,
   "id": "9b193501",
   "metadata": {},
   "outputs": [
    {
     "data": {
      "text/html": [
       "<div>\n",
       "<style scoped>\n",
       "    .dataframe tbody tr th:only-of-type {\n",
       "        vertical-align: middle;\n",
       "    }\n",
       "\n",
       "    .dataframe tbody tr th {\n",
       "        vertical-align: top;\n",
       "    }\n",
       "\n",
       "    .dataframe thead th {\n",
       "        text-align: right;\n",
       "    }\n",
       "</style>\n",
       "<table border=\"1\" class=\"dataframe\">\n",
       "  <thead>\n",
       "    <tr style=\"text-align: right;\">\n",
       "      <th></th>\n",
       "      <th>Age</th>\n",
       "      <th>Sibilings/Spouses Aboard</th>\n",
       "      <th>Parents/Children Aboard</th>\n",
       "      <th>Fare</th>\n",
       "    </tr>\n",
       "  </thead>\n",
       "  <tbody>\n",
       "    <tr>\n",
       "      <th>count</th>\n",
       "      <td>8.890000e+02</td>\n",
       "      <td>889.000000</td>\n",
       "      <td>889.000000</td>\n",
       "      <td>889.000000</td>\n",
       "    </tr>\n",
       "    <tr>\n",
       "      <th>mean</th>\n",
       "      <td>2.717486e-16</td>\n",
       "      <td>0.524184</td>\n",
       "      <td>0.382452</td>\n",
       "      <td>0.763605</td>\n",
       "    </tr>\n",
       "    <tr>\n",
       "      <th>std</th>\n",
       "      <td>9.975651e-01</td>\n",
       "      <td>1.103705</td>\n",
       "      <td>0.806761</td>\n",
       "      <td>2.151016</td>\n",
       "    </tr>\n",
       "    <tr>\n",
       "      <th>min</th>\n",
       "      <td>-2.247853e+00</td>\n",
       "      <td>0.000000</td>\n",
       "      <td>0.000000</td>\n",
       "      <td>-0.625609</td>\n",
       "    </tr>\n",
       "    <tr>\n",
       "      <th>25%</th>\n",
       "      <td>-5.878533e-01</td>\n",
       "      <td>0.000000</td>\n",
       "      <td>0.000000</td>\n",
       "      <td>-0.283862</td>\n",
       "    </tr>\n",
       "    <tr>\n",
       "      <th>50%</th>\n",
       "      <td>0.000000e+00</td>\n",
       "      <td>0.000000</td>\n",
       "      <td>0.000000</td>\n",
       "      <td>0.000000</td>\n",
       "    </tr>\n",
       "    <tr>\n",
       "      <th>75%</th>\n",
       "      <td>4.121467e-01</td>\n",
       "      <td>1.000000</td>\n",
       "      <td>0.000000</td>\n",
       "      <td>0.716138</td>\n",
       "    </tr>\n",
       "    <tr>\n",
       "      <th>max</th>\n",
       "      <td>3.873685e+00</td>\n",
       "      <td>8.000000</td>\n",
       "      <td>6.000000</td>\n",
       "      <td>21.549112</td>\n",
       "    </tr>\n",
       "  </tbody>\n",
       "</table>\n",
       "</div>"
      ],
      "text/plain": [
       "                Age  Sibilings/Spouses Aboard  Parents/Children Aboard  \\\n",
       "count  8.890000e+02                889.000000               889.000000   \n",
       "mean   2.717486e-16                  0.524184                 0.382452   \n",
       "std    9.975651e-01                  1.103705                 0.806761   \n",
       "min   -2.247853e+00                  0.000000                 0.000000   \n",
       "25%   -5.878533e-01                  0.000000                 0.000000   \n",
       "50%    0.000000e+00                  0.000000                 0.000000   \n",
       "75%    4.121467e-01                  1.000000                 0.000000   \n",
       "max    3.873685e+00                  8.000000                 6.000000   \n",
       "\n",
       "             Fare  \n",
       "count  889.000000  \n",
       "mean     0.763605  \n",
       "std      2.151016  \n",
       "min     -0.625609  \n",
       "25%     -0.283862  \n",
       "50%      0.000000  \n",
       "75%      0.716138  \n",
       "max     21.549112  "
      ]
     },
     "execution_count": 189,
     "metadata": {},
     "output_type": "execute_result"
    }
   ],
   "source": [
    "#Pregled robust skale podataka\n",
    "\n",
    "rbst_df[numerical_features].describe()"
   ]
  },
  {
   "cell_type": "code",
   "execution_count": 190,
   "id": "ad7cf402",
   "metadata": {},
   "outputs": [],
   "source": [
    "#Sacuvacemo podatke skalirane od 0 do 1\n",
    "\n",
    "df[numerical_features] = minmax_df[numerical_features]"
   ]
  },
  {
   "cell_type": "markdown",
   "id": "1781f7b6",
   "metadata": {},
   "source": [
    "## Klasifikacija"
   ]
  },
  {
   "cell_type": "code",
   "execution_count": 192,
   "id": "639ee3ae",
   "metadata": {},
   "outputs": [],
   "source": [
    "from sklearn.tree import DecisionTreeClassifier"
   ]
  },
  {
   "cell_type": "code",
   "execution_count": 193,
   "id": "abb691e0",
   "metadata": {},
   "outputs": [],
   "source": [
    "#Razdvajamo podatke na X i Y\n",
    "\n",
    "X, Y = df.drop(columns=[target_column]), df[target_column]"
   ]
  },
  {
   "cell_type": "code",
   "execution_count": 194,
   "id": "6008c28c",
   "metadata": {},
   "outputs": [],
   "source": [
    "#Treniramo model\n",
    "\n",
    "dtc = DecisionTreeClassifier()\n",
    "res = dtc.fit(X,Y)"
   ]
  },
  {
   "cell_type": "code",
   "execution_count": 195,
   "id": "d3d1c90a",
   "metadata": {},
   "outputs": [
    {
     "name": "stdout",
     "output_type": "stream",
     "text": [
      "Real label for row: 0 Predicted label: 0\n"
     ]
    }
   ],
   "source": [
    "#Predvidjamo rezultat\n",
    "\n",
    "first_row = X.iloc[[0]]\n",
    "real_label = Y.iloc[0]\n",
    "\n",
    "predicted_label = res.predict(first_row)[0]\n",
    "print(f\"Real label for row: {real_label} Predicted label: {predicted_label}\")"
   ]
  },
  {
   "cell_type": "markdown",
   "id": "47e01777",
   "metadata": {},
   "source": [
    "### Testiranje"
   ]
  },
  {
   "cell_type": "code",
   "execution_count": 196,
   "id": "259e67bb",
   "metadata": {},
   "outputs": [],
   "source": [
    "from sklearn.model_selection import train_test_split"
   ]
  },
  {
   "cell_type": "code",
   "execution_count": 197,
   "id": "3fcc4076",
   "metadata": {},
   "outputs": [],
   "source": [
    "#Podeli skup tako da je 70% za treniranje, a 30% za testiranje\n",
    "\n",
    "X_train, X_test, Y_train, Y_test = train_test_split(X, Y, test_size=0.3, random_state=0)"
   ]
  },
  {
   "cell_type": "code",
   "execution_count": 198,
   "id": "b8a2f6c0",
   "metadata": {},
   "outputs": [],
   "source": [
    "#Treniranje modela\n",
    "\n",
    "dtc = DecisionTreeClassifier()\n",
    "res = dtc.fit(X_train, Y_train)"
   ]
  },
  {
   "cell_type": "code",
   "execution_count": 199,
   "id": "f5b8667e",
   "metadata": {},
   "outputs": [
    {
     "name": "stdout",
     "output_type": "stream",
     "text": [
      "Model accuracy: 0.7602996254681648\n"
     ]
    }
   ],
   "source": [
    "#Testiranje modela\n",
    "\n",
    "accuracy_score = res.score(X_test, Y_test)\n",
    "print(f\"Model accuracy: {accuracy_score}\")"
   ]
  },
  {
   "cell_type": "code",
   "execution_count": 200,
   "id": "25857a4d",
   "metadata": {},
   "outputs": [],
   "source": [
    "from sklearn.model_selection import cross_validate\n",
    "from sklearn.model_selection import StratifiedKFold"
   ]
  },
  {
   "cell_type": "code",
   "execution_count": 201,
   "id": "3a694e43",
   "metadata": {},
   "outputs": [],
   "source": [
    "#Priprema KFold objekat sa k=10\n",
    "\n",
    "kfold = StratifiedKFold(n_splits=10, shuffle=True, random_state=1)"
   ]
  },
  {
   "cell_type": "code",
   "execution_count": 202,
   "id": "2c72b621",
   "metadata": {},
   "outputs": [],
   "source": [
    "#Testira cross validacijom\n",
    "\n",
    "dtc = DecisionTreeClassifier()\n",
    "cv_results = cross_validate(dtc, X, Y, cv=kfold, n_jobs=-1)"
   ]
  },
  {
   "cell_type": "code",
   "execution_count": 203,
   "id": "c640c65c",
   "metadata": {},
   "outputs": [
    {
     "name": "stdout",
     "output_type": "stream",
     "text": [
      "Mean model accuracy: 0.7862359550561797\n"
     ]
    }
   ],
   "source": [
    "#Racuna prosek rezultata\n",
    "\n",
    "acc_scores = cv_results['test_score']\n",
    "mean_acc = np.mean(acc_scores)\n",
    "print(f\"Mean model accuracy: {mean_acc}\")"
   ]
  },
  {
   "cell_type": "code",
   "execution_count": 204,
   "id": "b8e0a559",
   "metadata": {},
   "outputs": [],
   "source": [
    "from sklearn.metrics import accuracy_score\n",
    "from sklearn.metrics import precision_score\n",
    "from sklearn.metrics import recall_score\n",
    "from sklearn.metrics import f1_score\n",
    "from sklearn.metrics import make_scorer"
   ]
  },
  {
   "cell_type": "code",
   "execution_count": 205,
   "id": "cca0fd07",
   "metadata": {},
   "outputs": [],
   "source": [
    "#Priprema metrika za ocenjivanje\n",
    "\n",
    "scoring_metrics = {\n",
    "        'accuracy': make_scorer(accuracy_score),\n",
    "        'precision_0': make_scorer(precision_score, pos_label=0),\n",
    "        'precision_1': make_scorer(precision_score, pos_label=1),\n",
    "        'recall_0': make_scorer(recall_score, pos_label=0),\n",
    "        'recall_1': make_scorer(recall_score, pos_label=1),\n",
    "        'f1_0': make_scorer(f1_score, pos_label=0),\n",
    "        'f1_1': make_scorer(f1_score, pos_label=1)\n",
    "    }"
   ]
  },
  {
   "cell_type": "code",
   "execution_count": 206,
   "id": "59e485c5",
   "metadata": {},
   "outputs": [],
   "source": [
    "#Testira cross validacijom\n",
    "\n",
    "dtc = DecisionTreeClassifier()\n",
    "cv_results = cross_validate(dtc, X, Y, scoring=scoring_metrics, cv=kfold, n_jobs=-1)"
   ]
  },
  {
   "cell_type": "code",
   "execution_count": 207,
   "id": "eee2aa94",
   "metadata": {},
   "outputs": [],
   "source": [
    "#Racuna prosek rezultata\n",
    "\n",
    "AccuScores = cv_results['test_accuracy']\n",
    "Prec0Scores = cv_results['test_precision_0']\n",
    "Prec1Scores = cv_results['test_precision_1']\n",
    "Rec0Scores = cv_results['test_recall_0']\n",
    "Rec1Scores = cv_results['test_recall_1']\n",
    "F10Scores = cv_results['test_f1_0']\n",
    "F11Scores = cv_results['test_f1_1']\n",
    "\n",
    "AccuScore = np.mean(AccuScores)\n",
    "Prec0Score = np.mean(Prec0Scores)\n",
    "Prec1Score = np.mean(Prec1Scores)\n",
    "Rec0Score = np.mean(Rec0Scores)\n",
    "Rec1Score = np.mean(Rec1Scores)\n",
    "F10Score = np.mean(F10Scores)\n",
    "F11Score = np.mean(F11Scores)"
   ]
  },
  {
   "cell_type": "code",
   "execution_count": 208,
   "id": "ebce2c06",
   "metadata": {},
   "outputs": [
    {
     "name": "stdout",
     "output_type": "stream",
     "text": [
      "Performance results:\n",
      "Accuracy: 78.400%\n",
      "Precision for class 0: 83.039%\n",
      "Precision for class 1: 71.591%\n",
      "Recall for class 0: 81.963%\n",
      "Recall for class 1: 72.647%\n",
      "F1 for class 0: 82.394%\n",
      "F1 for class 1: 71.921%\n"
     ]
    }
   ],
   "source": [
    "print('Performance results:')\n",
    "print('Accuracy: {:.3%}'.format(AccuScore))\n",
    "print('Precision for class 0: {:.3%}'.format(Prec0Score))\n",
    "print('Precision for class 1: {:.3%}'.format(Prec1Score))\n",
    "print('Recall for class 0: {:.3%}'.format(Rec0Score))\n",
    "print('Recall for class 1: {:.3%}'.format(Rec1Score))\n",
    "print('F1 for class 0: {:.3%}'.format(F10Score))\n",
    "print('F1 for class 1: {:.3%}'.format(F11Score))"
   ]
  },
  {
   "cell_type": "markdown",
   "id": "c9b91858",
   "metadata": {},
   "source": [
    "### Biranje modela"
   ]
  },
  {
   "cell_type": "code",
   "execution_count": 209,
   "id": "f43cfa54",
   "metadata": {},
   "outputs": [],
   "source": [
    "def test_model(model, X: pd.DataFrame, Y: pd.DataFrame):\n",
    "    #Prepare testing objects\n",
    "    cv = StratifiedKFold(n_splits=10, shuffle=True, random_state=1)\n",
    "\n",
    "    #Training and testing\n",
    "    cv_results = cross_validate(model, X, Y, scoring=scoring_metrics,\n",
    "     cv=cv, n_jobs=-1)\n",
    "\n",
    "    AccuScores = cv_results['test_accuracy']\n",
    "    Prec0Scores = cv_results['test_precision_0']\n",
    "    Prec1Scores = cv_results['test_precision_1']\n",
    "    Rec0Scores = cv_results['test_recall_0']\n",
    "    Rec1Scores = cv_results['test_recall_1']\n",
    "    F10Scores = cv_results['test_f1_0']\n",
    "    F11Scores = cv_results['test_f1_1']\n",
    "\n",
    "    return { \n",
    "        'Accuracy': np.mean(AccuScores),\n",
    "        'Precision 0': np.mean(Prec0Scores),\n",
    "        'Precision 1': np.mean(Prec1Scores),\n",
    "        'Recall 0': np.mean(Rec0Scores),\n",
    "        'Recall 1': np.mean(Rec1Scores),\n",
    "        'F1 0': np.mean(F10Scores),\n",
    "        'F1 1': np.mean(F11Scores)\n",
    "    }"
   ]
  },
  {
   "cell_type": "code",
   "execution_count": 210,
   "id": "c12dde6e",
   "metadata": {},
   "outputs": [],
   "source": [
    "from sklearn.svm import SVC\n",
    "from sklearn.ensemble import RandomForestClassifier\n",
    "from sklearn.neighbors import KNeighborsClassifier\n",
    "from sklearn.naive_bayes import GaussianNB"
   ]
  },
  {
   "cell_type": "code",
   "execution_count": 211,
   "id": "4ebab145",
   "metadata": {},
   "outputs": [],
   "source": [
    "#Testiraj svaki model\n",
    "\n",
    "test_results = {}\n",
    "test_results['Decision Tree'] = test_model(DecisionTreeClassifier(), X, Y)\n",
    "test_results['Support Vector Machine'] = test_model(SVC(), X, Y)\n",
    "test_results['Random Forest'] = test_model(RandomForestClassifier(), X, Y)\n",
    "test_results['K Nearest Neighbors'] = test_model(KNeighborsClassifier(), X, Y)\n",
    "test_results['Gaussian Naive Bayes'] = test_model(GaussianNB(), X, Y)"
   ]
  },
  {
   "cell_type": "code",
   "execution_count": 212,
   "id": "58388cf7",
   "metadata": {},
   "outputs": [],
   "source": [
    "#Spoji rezultate\n",
    "\n",
    "testing_df = pd.DataFrame.from_dict(test_results, orient='index')"
   ]
  },
  {
   "cell_type": "code",
   "execution_count": 213,
   "id": "5727e960",
   "metadata": {},
   "outputs": [
    {
     "data": {
      "text/plain": [
       "<AxesSubplot:>"
      ]
     },
     "execution_count": 213,
     "metadata": {},
     "output_type": "execute_result"
    },
    {
     "data": {
      "image/png": "[encoded data removed]",
      "text/plain": [
       "<Figure size 432x288 with 1 Axes>"
      ]
     },
     "metadata": {
      "needs_background": "light"
     },
     "output_type": "display_data"
    }
   ],
   "source": [
    "sns.heatmap(testing_df, annot=testing_df, cmap=\"YlGn\", cbar=False)"
   ]
  },
  {
   "cell_type": "markdown",
   "id": "fc8567e1",
   "metadata": {},
   "source": [
    "### Optimizovanje hiperparametra"
   ]
  },
  {
   "cell_type": "code",
   "execution_count": 226,
   "id": "895a6c80",
   "metadata": {},
   "outputs": [],
   "source": [
    "from sklearn.model_selection import GridSearchCV, RandomizedSearchCV\n",
    "from scipy.stats import truncnorm, randint\n",
    "import time"
   ]
  },
  {
   "cell_type": "code",
   "execution_count": 227,
   "id": "119dd0c3",
   "metadata": {},
   "outputs": [],
   "source": [
    "#Definisemo distribucije parametra za nasumicnu pretragu\n",
    "\n",
    "decTree_param_dist = {\n",
    "    'n_estimators': randint(4,200),\n",
    "    'max_depth': randint(8,128),\n",
    "    'min_samples_split': randint(2,32),\n",
    "    'max_leaf_nodes': randint(2,128),\n",
    "    'max_features': truncnorm(a=0, b=1, loc=0.5, scale=0.1),\n",
    "}"
   ]
  },
  {
   "cell_type": "code",
   "execution_count": 228,
   "id": "3d14f2dd",
   "metadata": {},
   "outputs": [],
   "source": [
    "#Priprema objekata za nasumicno testiranje hiperparametraskih kombinacija\n",
    "\n",
    "cv = StratifiedKFold(n_splits=5, shuffle=True, random_state=1)\n",
    "\n",
    "#Prepare optimization\n",
    "randomCV = RandomizedSearchCV(RandomForestClassifier(), scoring=scoring_metrics,\n",
    "                              param_distributions=decTree_param_dist, refit='accuracy', \n",
    "                              cv=cv, n_jobs=-1, n_iter=100)"
   ]
  },
  {
   "cell_type": "code",
   "execution_count": 229,
   "id": "74e817c2",
   "metadata": {},
   "outputs": [
    {
     "name": "stdout",
     "output_type": "stream",
     "text": [
      "Optimizing hyperparameters with a randomized search...\n",
      "Parameters optimized in 28.7607 seconds.\n"
     ]
    }
   ],
   "source": [
    "#Nasumicno trazenje najboljih hiperparametra\n",
    "\n",
    "print(f\"Optimizing hyperparameters with a randomized search...\")\n",
    "startTime = time.perf_counter()\n",
    "randomCV.fit(X,Y)\n",
    "endTime = time.perf_counter()\n",
    "print(f\"Parameters optimized in {endTime - startTime:0.4f} seconds.\")\n",
    "\n",
    "best_random_params = randomCV.best_params_"
   ]
  },
  {
   "cell_type": "code",
   "execution_count": 230,
   "id": "9881caca",
   "metadata": {},
   "outputs": [],
   "source": [
    "#Definišemo opseg hiperparametra za iscrpnu pretragu\n",
    "\n",
    "decTree_param_grid = {\n",
    "    'criterion': ['gini', 'entropy'],\n",
    "    'max_depth': [8,16,32,64,128],\n",
    "    'min_samples_split': [2,4,8,16,32],\n",
    "    'max_leaf_nodes': [2,4,8,16,32,64,128, None],\n",
    "    'max_features': ['auto', 'sqrt', 'log2', None]\n",
    "}"
   ]
  },
  {
   "cell_type": "code",
   "execution_count": 231,
   "id": "db25b03c",
   "metadata": {},
   "outputs": [],
   "source": [
    "#Priprema objekata za iscrpno testiranje hiperparametraskih kombinacija\n",
    "\n",
    "cv = StratifiedKFold(n_splits=5, shuffle=True, random_state=1)\n",
    "\n",
    "#Prepare optimization\n",
    "gridCV = GridSearchCV(RandomForestClassifier(), scoring=scoring_metrics,\n",
    "    param_grid=decTree_param_grid, refit='accuracy', cv=cv, n_jobs=-1)"
   ]
  },
  {
   "cell_type": "code",
   "execution_count": 232,
   "id": "58be44a2",
   "metadata": {},
   "outputs": [
    {
     "name": "stdout",
     "output_type": "stream",
     "text": [
      "Optimizing hyperparameters with a grid search...\n",
      "Parameters optimized in 479.1397 seconds.\n"
     ]
    }
   ],
   "source": [
    "#Iscrpno trazenje najboljih hiperparametra\n",
    "\n",
    "print(f\"Optimizing hyperparameters with a grid search...\")\n",
    "startTime = time.perf_counter()\n",
    "gridCV.fit(X,Y)\n",
    "endTime = time.perf_counter()\n",
    "print(f\"Parameters optimized in {endTime - startTime:0.4f} seconds.\")\n",
    "\n",
    "best_grid_params = gridCV.best_params_"
   ]
  },
  {
   "cell_type": "code",
   "execution_count": 233,
   "id": "78873fe0",
   "metadata": {},
   "outputs": [
    {
     "name": "stdout",
     "output_type": "stream",
     "text": [
      "Best random parameters: {'max_depth': 108, 'max_features': 0.5297115906250106, 'max_leaf_nodes': 59, 'min_samples_split': 18, 'n_estimators': 187}\n",
      "Best grid parameters: {'criterion': 'entropy', 'max_depth': 16, 'max_features': None, 'max_leaf_nodes': 64, 'min_samples_split': 8}\n"
     ]
    }
   ],
   "source": [
    "#Pregled izabranih hiperparametra\n",
    "\n",
    "print(\"Best random parameters:\", randomCV.best_params_)\n",
    "print(\"Best grid parameters:\", gridCV.best_params_)"
   ]
  },
  {
   "cell_type": "code",
   "execution_count": 235,
   "id": "914d8379",
   "metadata": {},
   "outputs": [
    {
     "data": {
      "text/plain": [
       "<AxesSubplot:>"
      ]
     },
     "execution_count": 235,
     "metadata": {},
     "output_type": "execute_result"
    },
    {
     "data": {
      "image/png": "[encoded data removed]",
      "text/plain": [
       "<Figure size 432x288 with 1 Axes>"
      ]
     },
     "metadata": {
      "needs_background": "light"
     },
     "output_type": "display_data"
    }
   ],
   "source": [
    "#Spajanje ocena najboljih modela\n",
    "test_results = {}\n",
    "test_results['Random Search'] = test_model(randomCV.best_estimator_, X, Y)\n",
    "test_results['Grid Search'] = test_model(gridCV.best_estimator_, X, Y)\n",
    "\n",
    "#Spoji rezultate\n",
    "testing_df = pd.DataFrame.from_dict(test_results, orient='index')\n",
    "\n",
    "#Pregled ocena\n",
    "sns.heatmap(testing_df, annot=testing_df, cmap=\"YlGn\", cbar=False)"
   ]
  },
  {
   "cell_type": "code",
   "execution_count": 240,
   "id": "98344be9",
   "metadata": {},
   "outputs": [],
   "source": [
    "#Definisi lokaciju za cujvanje najboljeg modela\n",
    "import pickle\n",
    "\n",
    "path_tosave = os.path.abspath('data/titanic_dataset/best_model.pkl')"
   ]
  },
  {
   "cell_type": "code",
   "execution_count": 241,
   "id": "540783b9",
   "metadata": {},
   "outputs": [],
   "source": [
    "#Cuvamo najbolji model\n",
    "\n",
    "best_model = gridCV.best_estimator_\n",
    "\n",
    "with open(path_tosave,\"wb\") as file:\n",
    "    pickle.dump(best_model, file)"
   ]
  },
  {
   "cell_type": "code",
   "execution_count": 242,
   "id": "2cd83cdc",
   "metadata": {},
   "outputs": [],
   "source": [
    "#Ucitamo najbolji model\n",
    "\n",
    "best_model = None\n",
    "\n",
    "with open(path_tosave, \"rb\") as file:\n",
    "    best_model = pickle.load(file)"
   ]
  },
  {
   "cell_type": "markdown",
   "id": "feea47c9",
   "metadata": {},
   "source": [
    "### Redukcija dimenzionalnosti"
   ]
  },
  {
   "cell_type": "code",
   "execution_count": 243,
   "id": "a39de676",
   "metadata": {},
   "outputs": [],
   "source": [
    "from sklearn.feature_selection import RFE, SelectKBest, mutual_info_classif\n",
    "from sklearn.decomposition import PCA"
   ]
  },
  {
   "cell_type": "code",
   "execution_count": 244,
   "id": "3ffdf968",
   "metadata": {},
   "outputs": [],
   "source": [
    "#Priprema vrednosti\n",
    "from math import ceil\n",
    "target_col_count = ceil(X.shape[1]/2)\n",
    "\n",
    "selector_testing_results = {} \n",
    "selector_results = {}"
   ]
  },
  {
   "cell_type": "code",
   "execution_count": 245,
   "id": "f528422c",
   "metadata": {},
   "outputs": [],
   "source": [
    "#Testiranja transformisanja kolona\n",
    "\n",
    "label = \"PCA\"\n",
    "pca = PCA(n_components=target_col_count)\n",
    "\n",
    "principalComponents = pca.fit_transform(X)\n",
    "\n",
    "principalDf = pd.DataFrame(data = principalComponents)\n",
    "test_results = test_model(best_model, principalDf, Y)\n",
    "\n",
    "selector_testing_results[label] = test_results\n",
    "selector_results[label] = principalDf"
   ]
  },
  {
   "cell_type": "code",
   "execution_count": 248,
   "id": "fb829893",
   "metadata": {},
   "outputs": [],
   "source": [
    "#Testiranje rekurzivnog eliminisanja kolona\n",
    "\n",
    "label = \"RFE\"\n",
    "rfe = RFE(best_model,n_features_to_select=target_col_count)\n",
    "\n",
    "res = rfe.fit(X,Y)\n",
    "\n",
    "X_rfe = X.loc[:, res.get_support()]\n",
    "test_results = test_model(best_model, X_rfe, Y)\n",
    "\n",
    "selector_testing_results[label] = test_results\n",
    "selector_results[label] = X_rfe"
   ]
  },
  {
   "cell_type": "code",
   "execution_count": 249,
   "id": "8cd355e8",
   "metadata": {},
   "outputs": [],
   "source": [
    "#Statisticko biranje kolona\n",
    "\n",
    "label = \"Univariate\"\n",
    "uni = SelectKBest(mutual_info_classif, k=target_col_count)\n",
    "\n",
    "res = uni.fit(X,Y)\n",
    "X_uni = X.loc[:, res.get_support()]\n",
    "\n",
    "test_results = test_model(best_model, X_uni, Y)\n",
    "\n",
    "selector_testing_results[label] = test_results\n",
    "selector_results[label] = X_uni"
   ]
  },
  {
   "cell_type": "code",
   "execution_count": 251,
   "id": "8c65d0a5",
   "metadata": {},
   "outputs": [
    {
     "name": "stdout",
     "output_type": "stream",
     "text": [
      "Recursive Feature Extraction Columns: Index(['Class', 'Age', 'Fare', 'Sex_male'], dtype='object')\n",
      "Univariate Columns: Index(['Class', 'Age', 'Fare', 'Sex_male'], dtype='object')\n"
     ]
    }
   ],
   "source": [
    "print(\"Recursive Feature Extraction Columns:\", X_rfe.columns)\n",
    "print(\"Univariate Columns:\", X_uni.columns)"
   ]
  },
  {
   "cell_type": "code",
   "execution_count": 254,
   "id": "d97abdc7",
   "metadata": {},
   "outputs": [
    {
     "data": {
      "text/plain": [
       "<AxesSubplot:>"
      ]
     },
     "execution_count": 254,
     "metadata": {},
     "output_type": "execute_result"
    },
    {
     "data": {
      "image/png": "[encoded data removed]",
      "text/plain": [
       "<Figure size 432x288 with 1 Axes>"
      ]
     },
     "metadata": {
      "needs_background": "light"
     },
     "output_type": "display_data"
    }
   ],
   "source": [
    "#Spoji rezultate\n",
    "testing_df = pd.DataFrame.from_dict(selector_testing_results, orient='index')\n",
    "\n",
    "#Pregled ocena\n",
    "sns.heatmap(testing_df, annot=testing_df, cmap=\"YlGn\", cbar=False)"
   ]
  },
  {
   "cell_type": "markdown",
   "id": "74da67f8",
   "metadata": {},
   "source": [
    "## Klasterovanje"
   ]
  },
  {
   "cell_type": "code",
   "execution_count": 289,
   "id": "48702711",
   "metadata": {},
   "outputs": [],
   "source": [
    "from sklearn.cluster import KMeans, AgglomerativeClustering"
   ]
  },
  {
   "cell_type": "code",
   "execution_count": 336,
   "id": "a07a9f4e",
   "metadata": {},
   "outputs": [],
   "source": [
    "#Grupisanje KMeans algoritmom u dva klastera\n",
    "\n",
    "kmeans = KMeans(n_clusters=2)\n",
    "df['Cluster'] = kmeans.fit_predict(X)"
   ]
  },
  {
   "cell_type": "code",
   "execution_count": 337,
   "id": "3ac2cfde",
   "metadata": {},
   "outputs": [
    {
     "name": "stdout",
     "output_type": "stream",
     "text": [
      "Accuracy if survived in cluster 1: 33.296%\n",
      "Accuracy if survived in cluster 0: 66.704%\n"
     ]
    }
   ],
   "source": [
    "total_count = df.shape[0]\n",
    "\n",
    "#Pretpostavka da su preziveli u klasteru 1\n",
    "comparison_column_1 = np.where(df[\"Survived\"] == df[\"Cluster\"], True, False)\n",
    "\n",
    "#Pretpostavka da su preziveli u klasteru 0\n",
    "comparison_column_0 = np.where(df[\"Survived\"] == df[\"Cluster\"], False, True)\n",
    "\n",
    "print(\"Accuracy if survived in cluster 1: {:.3%}\".format(np.count_nonzero(comparison_column_1)/total_count))\n",
    "print(\"Accuracy if survived in cluster 0: {:.3%}\".format(np.count_nonzero(comparison_column_0)/total_count))"
   ]
  },
  {
   "cell_type": "code",
   "execution_count": 338,
   "id": "a2014b86",
   "metadata": {},
   "outputs": [
    {
     "data": {
      "text/plain": [
       "<AxesSubplot:>"
      ]
     },
     "execution_count": 338,
     "metadata": {},
     "output_type": "execute_result"
    },
    {
     "data": {
      "image/png": "[encoded data removed]",
      "text/plain": [
       "<Figure size 864x72 with 2 Axes>"
      ]
     },
     "metadata": {
      "needs_background": "light"
     },
     "output_type": "display_data"
    }
   ],
   "source": [
    "#Pregled koliko koja kolona utice na klasterizaciju\n",
    "plt.figure(figsize=(12,1))\n",
    "corr_df = df.drop(columns=['Survived']).corr().loc[['Cluster']]\n",
    "sns.heatmap(corr_df, annot=True, fmt='.2f')"
   ]
  },
  {
   "cell_type": "code",
   "execution_count": 339,
   "id": "24c483c8",
   "metadata": {},
   "outputs": [],
   "source": [
    "#Grupisanje hijerarhijskim algoritmom u dva klastera\n",
    "\n",
    "agg = AgglomerativeClustering(n_clusters=2)\n",
    "df['Cluster'] = agg.fit_predict(X)"
   ]
  },
  {
   "cell_type": "code",
   "execution_count": 340,
   "id": "357d784b",
   "metadata": {},
   "outputs": [
    {
     "name": "stdout",
     "output_type": "stream",
     "text": [
      "Accuracy if survived in cluster 1: 66.704%\n",
      "Accuracy if survived in cluster 0: 33.296%\n"
     ]
    }
   ],
   "source": [
    "total_count = df.shape[0]\n",
    "\n",
    "#Pretpostavka da su preziveli u klasteru 1\n",
    "comparison_column_1 = np.where(df[\"Survived\"] == df[\"Cluster\"], True, False)\n",
    "\n",
    "#Pretpostavka da su preziveli u klasteru 0\n",
    "comparison_column_0 = np.where(df[\"Survived\"] == df[\"Cluster\"], False, True)\n",
    "\n",
    "print(\"Accuracy if survived in cluster 1: {:.3%}\".format(np.count_nonzero(comparison_column_1)/total_count))\n",
    "print(\"Accuracy if survived in cluster 0: {:.3%}\".format(np.count_nonzero(comparison_column_0)/total_count))"
   ]
  },
  {
   "cell_type": "code",
   "execution_count": 341,
   "id": "af6e4b52",
   "metadata": {},
   "outputs": [
    {
     "data": {
      "text/plain": [
       "<AxesSubplot:>"
      ]
     },
     "execution_count": 341,
     "metadata": {},
     "output_type": "execute_result"
    },
    {
     "data": {
      "image/png": "[encoded data removed]",
      "text/plain": [
       "<Figure size 864x72 with 2 Axes>"
      ]
     },
     "metadata": {
      "needs_background": "light"
     },
     "output_type": "display_data"
    }
   ],
   "source": [
    "#Pregled koliko koja kolona utice na klasterizaciju\n",
    "plt.figure(figsize=(12,1))\n",
    "corr_df = df.drop(columns=['Survived']).corr().loc[['Cluster']]\n",
    "sns.heatmap(corr_df, annot=True, fmt='.2f')"
   ]
  },
  {
   "cell_type": "code",
   "execution_count": null,
   "id": "836febf5",
   "metadata": {},
   "outputs": [],
   "source": []
  }
 ],
 "metadata": {
  "kernelspec": {
   "display_name": "Python 3 (ipykernel)",
   "language": "python",
   "name": "python3"
  },
  "language_info": {
   "codemirror_mode": {
    "name": "ipython",
    "version": 3
   },
   "file_extension": ".py",
   "mimetype": "text/x-python",
   "name": "python",
   "nbconvert_exporter": "python",
   "pygments_lexer": "ipython3",
   "version": "3.10.1"
  }
 },
 "nbformat": 4,
 "nbformat_minor": 5
}
